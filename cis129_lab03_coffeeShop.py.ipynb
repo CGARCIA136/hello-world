{
 "cells": [
  {
   "cell_type": "code",
   "execution_count": null,
   "id": "c77862b1-ded4-4b4b-9c4c-8bc143485294",
   "metadata": {},
   "outputs": [],
   "source": [
    "# Coffee Shop simulator program"
   ]
  },
  {
   "cell_type": "code",
   "execution_count": null,
   "id": "b8eec3af-9d74-4eba-ac47-e749c049b9c2",
   "metadata": {},
   "outputs": [],
   "source": [
    "# Author: Christian Garcia"
   ]
  },
  {
   "cell_type": "code",
   "execution_count": null,
   "id": "35d4f655-d9a2-47c4-9878-1577cce9623c",
   "metadata": {},
   "outputs": [],
   "source": [
    "# This program displays a menu of food items which the user may then select any amount"
   ]
  },
  {
   "cell_type": "code",
   "execution_count": null,
   "id": "eb3d973e-089f-4135-a27d-677879dcf2e8",
   "metadata": {},
   "outputs": [],
   "source": [
    "# The program will add the items value together with a tax of 6% "
   ]
  },
  {
   "cell_type": "code",
   "execution_count": null,
   "id": "5f915d67-2e15-41cf-9ded-eb5b08cb1795",
   "metadata": {},
   "outputs": [],
   "source": [
    "# The print statements below are the opening of the program"
   ]
  },
  {
   "cell_type": "code",
   "execution_count": null,
   "id": "eb3e8774-c4f7-4d37-b8fc-798ad1a875ee",
   "metadata": {},
   "outputs": [],
   "source": [
    "print('Welcome to the Coffee Shop!') "
   ]
  },
  {
   "cell_type": "code",
   "execution_count": null,
   "id": "b123ec91-67f7-4dea-8928-787d6c56d07c",
   "metadata": {},
   "outputs": [],
   "source": [
    "# Asks for the users name to greet user and for receipt"
   ]
  },
  {
   "cell_type": "code",
   "execution_count": null,
   "id": "b18d321e-9d85-4a25-a112-9cf65940e22c",
   "metadata": {},
   "outputs": [],
   "source": [
    "name = input(\"What is your name?\")"
   ]
  },
  {
   "cell_type": "code",
   "execution_count": null,
   "id": "5fc8b860-53ae-474c-ac50-f77389da3d9a",
   "metadata": {},
   "outputs": [],
   "source": [
    "# Shows the user the menu and prices"
   ]
  },
  {
   "cell_type": "code",
   "execution_count": null,
   "id": "55b51d94-0fa2-496d-9809-92c489e56290",
   "metadata": {},
   "outputs": [],
   "source": [
    "print('Here is our menu:')"
   ]
  },
  {
   "cell_type": "code",
   "execution_count": null,
   "id": "8b9316a7-a1c4-4300-8234-8f5edf1b0d69",
   "metadata": {},
   "outputs": [],
   "source": [
    "print('Coffee $5\\nMuffins $4')"
   ]
  },
  {
   "cell_type": "code",
   "execution_count": null,
   "id": "6af9c09c-7126-4e94-88ac-25f65e3ada66",
   "metadata": {},
   "outputs": [],
   "source": [
    "# Prices of the Coffee and and Muffins"
   ]
  },
  {
   "cell_type": "code",
   "execution_count": null,
   "id": "bdf68f85-a1b9-4992-8c5f-2b075b686a89",
   "metadata": {},
   "outputs": [],
   "source": [
    "COFFEE_PRICE = 5.00"
   ]
  },
  {
   "cell_type": "code",
   "execution_count": null,
   "id": "aee21008-8110-4614-88e5-3c06943118ef",
   "metadata": {},
   "outputs": [],
   "source": [
    "MUFFIN_PRICE = 4.00"
   ]
  },
  {
   "cell_type": "code",
   "execution_count": null,
   "id": "cf4fc7be-ec3f-4e7c-91ea-830394a220c1",
   "metadata": {},
   "outputs": [],
   "source": [
    "TAX_RATE = 0.06"
   ]
  },
  {
   "cell_type": "code",
   "execution_count": null,
   "id": "cdce0a95-0a3a-4c31-b6a5-4c12e9e9c781",
   "metadata": {},
   "outputs": [],
   "source": [
    "# Asks user for amount of coffee & muffins they want"
   ]
  },
  {
   "cell_type": "code",
   "execution_count": null,
   "id": "44ce71f4-0782-432d-9a36-dd4413c6ef63",
   "metadata": {},
   "outputs": [],
   "source": [
    "num_coffees = int(input(\"How many coffees do you want?\"))"
   ]
  },
  {
   "cell_type": "code",
   "execution_count": null,
   "id": "11487b5b-5ad1-41f7-b92f-f019f83c1ac8",
   "metadata": {},
   "outputs": [],
   "source": [
    "num_muffins = int(input(\"How many muffins do you want?\"))"
   ]
  },
  {
   "cell_type": "code",
   "execution_count": null,
   "id": "a5a2aa3a-66ed-4573-b015-ac30599174f7",
   "metadata": {},
   "outputs": [],
   "source": [
    "# Calculates the subtotal of the order"
   ]
  },
  {
   "cell_type": "code",
   "execution_count": null,
   "id": "c3f0217c-ca56-492e-b1e7-cc26703e1c28",
   "metadata": {},
   "outputs": [],
   "source": [
    "subtotal_coffee = num_coffees * COFFEE_PRICE"
   ]
  },
  {
   "cell_type": "code",
   "execution_count": null,
   "id": "5575e4dd-fea7-416a-9daa-eb1c9b7a816b",
   "metadata": {},
   "outputs": [],
   "source": [
    "subtotal_muffin = num_muffins * MUFFIN_PRICE"
   ]
  },
  {
   "cell_type": "code",
   "execution_count": null,
   "id": "895544de-81f6-4465-acbe-f7f64f48fa41",
   "metadata": {},
   "outputs": [],
   "source": [
    "subtotal = subtotal_coffee + subtotal_muffin"
   ]
  },
  {
   "cell_type": "code",
   "execution_count": null,
   "id": "5b59f3dc-1556-4043-b15a-091bb4926442",
   "metadata": {},
   "outputs": [],
   "source": [
    "# Calculates the subtotal with tax"
   ]
  },
  {
   "cell_type": "code",
   "execution_count": null,
   "id": "e4af17bc-4167-43ce-834f-1d781e9125bd",
   "metadata": {},
   "outputs": [],
   "source": [
    "tax = subtotal * TAX_RATE"
   ]
  },
  {
   "cell_type": "code",
   "execution_count": null,
   "id": "57d57630-baf7-4e5b-9dbf-7ae0e1a16a30",
   "metadata": {},
   "outputs": [],
   "source": [
    "# Adds up the total amount with subtotal and tax"
   ]
  },
  {
   "cell_type": "code",
   "execution_count": null,
   "id": "f9013e80-5d6e-41af-b982-f77f26e8ffd7",
   "metadata": {},
   "outputs": [],
   "source": [
    "total = subtotal + tax"
   ]
  },
  {
   "cell_type": "code",
   "execution_count": null,
   "id": "c526f690-1134-4a7a-8627-1c4ca26d2cfb",
   "metadata": {},
   "outputs": [],
   "source": [
    " # Shows the receipt to user"
   ]
  },
  {
   "cell_type": "code",
   "execution_count": null,
   "id": "a472f345-fec8-470c-97af-0dcb091ae6e4",
   "metadata": {},
   "outputs": [],
   "source": [
    "print(\"*\"*100)"
   ]
  },
  {
   "cell_type": "code",
   "execution_count": null,
   "id": "22cada0e-a008-4eef-a070-eabd1cd5a697",
   "metadata": {},
   "outputs": [],
   "source": [
    "print(\"My Coffee and Muffin Shop\")"
   ]
  },
  {
   "cell_type": "code",
   "execution_count": null,
   "id": "481e06f6-e76a-492f-90e8-23e539651613",
   "metadata": {},
   "outputs": [],
   "source": [
    "print(\"*\"*100)"
   ]
  },
  {
   "cell_type": "code",
   "execution_count": null,
   "id": "5754d662-d203-4bad-9a63-f1a5fdc04312",
   "metadata": {},
   "outputs": [],
   "source": [
    "print(\"*\"*50) "
   ]
  },
  {
   "cell_type": "code",
   "execution_count": null,
   "id": "a573a1d9-2a76-4550-ae7a-8e820b4ef535",
   "metadata": {},
   "outputs": [],
   "source": [
    "print(\"My Coffee and Muffin Shop Receipt\")"
   ]
  },
  {
   "cell_type": "code",
   "execution_count": null,
   "id": "daf4efb3-29c0-4b9c-8675-44b3e8698478",
   "metadata": {},
   "outputs": [],
   "source": [
    "print(f\"{num_coffees} Coffee(s) at ${COFFEE_PRICE:.2f} each: ${subtotal_coffee:.2f}\")"
   ]
  },
  {
   "cell_type": "code",
   "execution_count": null,
   "id": "35b12204-ea3c-49fa-bcf6-618642a4fee5",
   "metadata": {},
   "outputs": [],
   "source": [
    "print(f\"{num_muffins} Muffin(s) at ${MUFFIN_PRICE:.2f} each: ${subtotal_muffin:.2f}\")"
   ]
  },
  {
   "cell_type": "code",
   "execution_count": null,
   "id": "f763682d-7261-4e0e-8e4a-18a2f8008641",
   "metadata": {},
   "outputs": [],
   "source": [
    "print(f\"6% tax: ${tax:.2f}\")"
   ]
  },
  {
   "cell_type": "code",
   "execution_count": null,
   "id": "bb6da26a-9969-4810-b039-5670cceafd35",
   "metadata": {},
   "outputs": [],
   "source": [
    "print(\"*\"*50)"
   ]
  },
  {
   "cell_type": "code",
   "execution_count": null,
   "id": "524f7a01-a259-4ce0-8061-2add52ac5da2",
   "metadata": {},
   "outputs": [],
   "source": [
    "print(f\"Total: ${total:.2f}\")"
   ]
  },
  {
   "cell_type": "code",
   "execution_count": null,
   "id": "06e16e5c-0f54-4f56-9060-7fd4cb053eae",
   "metadata": {},
   "outputs": [],
   "source": [
    "print(\"*\"*100)"
   ]
  },
  {
   "cell_type": "code",
   "execution_count": null,
   "id": "4a732892-cc26-4a0e-875a-4d6ab3db02cf",
   "metadata": {},
   "outputs": [],
   "source": [
    "print('Thank you for coming out to the Coffee and Muffin shop! Please come again soon.')"
   ]
  },
  {
   "cell_type": "code",
   "execution_count": null,
   "id": "c6f516d4-76ce-43c4-92ce-2e4927cfdff3",
   "metadata": {},
   "outputs": [],
   "source": []
  },
  {
   "cell_type": "code",
   "execution_count": null,
   "id": "7b9d7979-4194-42dd-8952-7935539e3da7",
   "metadata": {},
   "outputs": [],
   "source": []
  }
 ],
 "metadata": {
  "kernelspec": {
   "display_name": "Python 3 (ipykernel)",
   "language": "python",
   "name": "python3"
  },
  "language_info": {
   "codemirror_mode": {
    "name": "ipython",
    "version": 3
   },
   "file_extension": ".py",
   "mimetype": "text/x-python",
   "name": "python",
   "nbconvert_exporter": "python",
   "pygments_lexer": "ipython3",
   "version": "3.12.3"
  }
 },
 "nbformat": 4,
 "nbformat_minor": 5
}
